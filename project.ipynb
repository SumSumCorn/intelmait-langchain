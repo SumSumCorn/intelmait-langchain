{
 "cells": [
  {
   "cell_type": "markdown",
   "metadata": {},
   "source": [
    "## 언어 모델(LLM)의 두 가지 유형\n",
    "\n",
    "**LLM**: 문자열을 입력으로 받아 문자열을 반환하는 언어 모델입니다.\n",
    "\n",
    "**ChatModels**: 메시지 목록을 입력으로 받아 메시지를 반환하는 언어 모델입니다.\n"
   ]
  },
  {
   "cell_type": "markdown",
   "metadata": {},
   "source": [
    "---\n",
    "LLM의 입력/출력은 문자열\n",
    "\n",
    "하지만 ChatModels은 어떨까요? 입력은 ChatMessage의 목록이고 출력은 하나의 ChatMessage입니다. \n",
    "\n",
    "\n",
    "- ChatMessage에는 두 가지 필수 구성 요소:\n",
    "    - content: 메시지의 내용입니다.\n",
    "    - role: ChatMessage를 보낸 엔티티의 역할입니다.\n",
    "\n",
    "---\n",
    "\n",
    "- **예시**\n",
    "\n",
    "```python\n",
    "messages = [{\"role\": \"user\", \"content\": \"hi\"}]\n",
    "\n",
    "result = openai.ChatCompletion.create(\n",
    "    messages=messages,\n",
    "    model=\"gpt-3.5-turbo\",\n",
    "    temperature=0\n",
    ")\n",
    "\n",
    "response = openai.ChatCompletion.create(\n",
    "    model=\"gpt-3.5-turbo\",\n",
    "    messages=[\n",
    "        {\"role\": \"system\", \"content\": \"You are a helpful assistant.\"},\n",
    "        {\"role\": \"user\", \"content\": \"Who won the world series in 2020?\"},\n",
    "        {\"role\": \"assistant\", \"content\": \"The Los Angeles Dodgers won the World Series in 2020.\"},\n",
    "        {\"role\": \"user\", \"content\": \"Where was it played?\"}\n",
    "    ]\n",
    ")\n",
    "```\n"
   ]
  },
  {
   "cell_type": "markdown",
   "metadata": {},
   "source": [
    "---\n",
    "\n",
    "### LangChain은 서로 다른 역할을 쉽게 구분할 수 있도록 여러 객체를 제공\n",
    "\n",
    "- HumanMessage: 사람/사용자로부터 오는 ChatMessage입니다.\n",
    "\n",
    "- AIMessage: 인공지능/어시스턴트가 보내는 ChatMessage.\n",
    "\n",
    "- SystemMessage: 시스템에서 보내는 챗메시지입니다.\n",
    "\n",
    "- FunctionMessage: 함수 호출에서 오는 ChatMessage.\n"
   ]
  },
  {
   "cell_type": "markdown",
   "metadata": {},
   "source": [
    "이러한 역할 중 어느 것도 적합하지 않은 경우 수동으로 역할을 지정할 수 있는 ChatMessage 클래스도 있습니다.  \n",
    "이러한 다양한 메시지를 가장 효과적으로 사용하는 방법에 대한 자세한 내용은 프롬프트 가이드를 참조하세요.\n"
   ]
  },
  {
   "cell_type": "markdown",
   "metadata": {},
   "source": [
    "predict: 문자열을 받아 문자열을 반환합니다.  \n",
    "predict_messages: 메시지 목록을 받아 메시지를 반환합니다.  \n",
    "이러한 다양한 유형의 모델과 다양한 유형의 입력으로 작업하는 방법을 살펴보겠습니다. 먼저 LLM과 ChatModel을 가져와 보겠습니다\n"
   ]
  },
  {
   "cell_type": "code",
   "execution_count": 3,
   "metadata": {},
   "outputs": [],
   "source": [
    "import os\n",
    "from dotenv import load_dotenv\n",
    "\n",
    "load_dotenv()"
   ]
  },
  {
   "cell_type": "code",
   "execution_count": 2,
   "metadata": {},
   "outputs": [
    {
     "name": "stdout",
     "output_type": "stream",
     "text": [
      "Hello! How can I assist you today?\n"
     ]
    }
   ],
   "source": [
    "import openai\n",
    "\n",
    "completion = openai.ChatCompletion.create(\n",
    "    model=\"gpt-3.5-turbo\", messages=[{\"role\": \"user\", \"content\": \"Hello world\"}]\n",
    ")\n",
    "print(completion.choices[0].message.content)"
   ]
  },
  {
   "cell_type": "code",
   "execution_count": 4,
   "metadata": {},
   "outputs": [
    {
     "name": "stdout",
     "output_type": "stream",
     "text": [
      "{'role': 'assistant', 'content': 'I am an AI language model developed by OpenAI. I am here to answer questions and engage in conversation. How can I assist you today?'}\n"
     ]
    }
   ],
   "source": [
    "result = openai.ChatCompletion.create(\n",
    "    model=\"gpt-3.5-turbo\", messages=[{\"role\": \"user\", \"content\": \"what are you doing?\"}]\n",
    ")\n",
    "\n",
    "print(result[\"choices\"][0][\"message\"])"
   ]
  },
  {
   "cell_type": "code",
   "execution_count": null,
   "metadata": {},
   "outputs": [],
   "source": [
    "# 위의 내용 연습하기"
   ]
  },
  {
   "cell_type": "markdown",
   "metadata": {},
   "source": [
    "## Chat API : langchain\n",
    "\n",
    "랭체인에서도 비슷하게 사용할 수 있다.  \n",
    "좀 더 다양하고 편리한 기능들을 사용할 수 있다.\n"
   ]
  },
  {
   "cell_type": "code",
   "execution_count": 7,
   "metadata": {},
   "outputs": [],
   "source": [
    "from langchain.chat_models import ChatOpenAI\n",
    "\n",
    "chat = ChatOpenAI(temperature=0, model=\"gpt-3.5-turbo\")"
   ]
  },
  {
   "cell_type": "code",
   "execution_count": 9,
   "metadata": {},
   "outputs": [
    {
     "data": {
      "text/plain": [
       "'나에게 재밌는 농담 말해줘.'"
      ]
     },
     "execution_count": 9,
     "metadata": {},
     "output_type": "execute_result"
    }
   ],
   "source": [
    "# 간단한 템플릿\n",
    "\n",
    "from langchain import PromptTemplate\n",
    "\n",
    "prompt_template = PromptTemplate.from_template(\"나에게 {adjective} {content} 말해줘.\")\n",
    "prompt_template.format(adjective=\"재밌는\", content=\"농담\")"
   ]
  },
  {
   "cell_type": "code",
   "execution_count": 14,
   "metadata": {},
   "outputs": [
    {
     "data": {
      "text/plain": [
       "str"
      ]
     },
     "execution_count": 14,
     "metadata": {},
     "output_type": "execute_result"
    }
   ],
   "source": [
    "message = prompt_template.format(adjective=\"냉소적인\", content=\"이야기\")\n",
    "message"
   ]
  },
  {
   "cell_type": "markdown",
   "metadata": {},
   "source": [
    "### LangChain은 서로 다른 역할을 쉽게 구분할 수 있도록 여러 객체를 제공\n",
    "\n",
    "- HumanMessage: 사람/사용자로부터 오는 ChatMessage입니다.\n",
    "\n",
    "- AIMessage: 인공지능/어시스턴트가 보내는 ChatMessage.\n",
    "\n",
    "- SystemMessage: 시스템에서 보내는 챗메시지입니다.\n",
    "\n",
    "- FunctionMessage: 함수 호출에서 오는 ChatMessage.\n"
   ]
  },
  {
   "cell_type": "code",
   "execution_count": 16,
   "metadata": {},
   "outputs": [
    {
     "data": {
      "text/plain": [
       "[SystemMessage(content='You are a helpful AI bot. Your name is Bob.', additional_kwargs={}),\n",
       " HumanMessage(content='Hello, how are you doing?', additional_kwargs={}, example=False),\n",
       " AIMessage(content=\"I'm doing well, thanks!\", additional_kwargs={}, example=False),\n",
       " HumanMessage(content='What is your name?', additional_kwargs={}, example=False)]"
      ]
     },
     "execution_count": 16,
     "metadata": {},
     "output_type": "execute_result"
    }
   ],
   "source": [
    "# 채팅 프롬프트 템플릿\n",
    "\n",
    "from langchain.prompts import ChatPromptTemplate\n",
    "\n",
    "template = ChatPromptTemplate.from_messages(\n",
    "    [\n",
    "        (\"system\", \"You are a helpful AI bot. Your name is {name}.\"),\n",
    "        (\"human\", \"Hello, how are you doing?\"),\n",
    "        (\"ai\", \"I'm doing well, thanks!\"),\n",
    "        (\"human\", \"{user_input}\"),\n",
    "    ]\n",
    ")\n",
    "\n",
    "messages = template.format_messages(name=\"Bob\", user_input=\"What is your name?\")\n",
    "\n",
    "messages"
   ]
  },
  {
   "cell_type": "code",
   "execution_count": 22,
   "metadata": {},
   "outputs": [
    {
     "name": "stdout",
     "output_type": "stream",
     "text": [
      "content='My name is Bob. How can I assist you today?' additional_kwargs={} example=False\n"
     ]
    }
   ],
   "source": [
    "res = chat(messages)\n",
    "\n",
    "print(res.content)"
   ]
  },
  {
   "cell_type": "code",
   "execution_count": null,
   "metadata": {},
   "outputs": [],
   "source": [
    "# 문제: 프롬프트 템플릿을 가지고 여러가지 질문을 만들어보세요\n",
    "\n",
    "# 1. 공부를 위한 채팅 프롬프트 만들기 질문하기\n",
    "\n",
    "# 2. 여행계획 세우는 채팅 프롬프트 만들기 질문하기"
   ]
  },
  {
   "cell_type": "markdown",
   "metadata": {},
   "source": [
    "### Output_parser\n",
    "\n",
    "딕셔러니 타입으로 출력 가능\n"
   ]
  },
  {
   "cell_type": "code",
   "execution_count": 56,
   "metadata": {},
   "outputs": [],
   "source": [
    "review_sample = \"\"\"\n",
    "선수: 피에로 인카피에\n",
    "\n",
    "레버쿠젠 LCB에 인카피에 8카 넣고 100게임 이상 한 후기 남김.\n",
    "\n",
    "총합 : ★★★☆☆\n",
    "\n",
    "장점 :\n",
    "1. 빠른 발(속도 134, 가속 131)\n",
    "2. 덜 한 역동작과 나쁘지 않은 체감\n",
    "3. 나름 잘 따주는 공중볼 경합\n",
    "4. 나쁘지 않은 후방 빌드업(빠른 빌드업 사용 시 수비수들 고립되는 상황이 나오는데 드리블 하면서 몰고 올라갈 수 있음)\n",
    "\n",
    "단점\n",
    "1. 몸싸움. 자리를 먼저 잡고 있어도 침투 들어오는 170대 중후반 공격수한테 밀림. 지금 메타가 그렇다고는 하나 든든한 전문 센터백 생각하고 경합 걸면 빡치는 상황 자주 옴.\n",
    "2. 심각할 정도로 자주 나오는 파울 및 PK. 수비 스탯이 높으면 PK는 잘 안줄줄 알았는데 그 생각이 깨짐. 몸싸움이 강력하지 않아서 공을 확실히 못 뺏어오니까 불필요한 터치가 많아져서 그런가.. 진짜 2~3게임에 한 번은 PK준다고 생각 해야함... 진짜 심각함.\n",
    "3. 몸싸움이 강력하지 않아 확실한 볼소유를 못해서 발생하는 잦은 아다리 상황. 이것도 진짜 심각함.\n",
    "\n",
    "총평\n",
    "19급여를 생각한다면 분명 가성비임이 틀림 없다. 레버쿠젠에 얼마 없는 센터백 자원에서 한 줄기 희망인 것도 사실이다. 그러나 센터백에 요구되는 능력 중 많은 요소가 결격 사유다. 딱 하나 빠른 발만 합격임. 그런데 그 빠른 발이 결국 현 메타에 핵심이기도 함. 19급여 3천억 센터백에 많은걸 바라긴 힘든건 인정.\n",
    "딱 한 마디로 요약하면 '요긴한 자원이나 안정성이 없다'\n",
    "\"\"\"\n",
    "\n",
    "review_template = \"\"\"\n",
    "다음 텍스트의 경우 다음 정보를 추출합니다.:\n",
    "\n",
    "name: 선수 이름.\n",
    "\n",
    "player_Rating: 1~5점 사이로 평가.\n",
    "\n",
    "summary: 이 플레이어를 한 달락으로 평가하세요. \n",
    "\n",
    "다음 키를 사용하여 JSON으로 출력합니다.:\n",
    "name\n",
    "player_Rating\n",
    "summary\n",
    "\n",
    "text:{text}\n",
    "\"\"\""
   ]
  },
  {
   "cell_type": "code",
   "execution_count": 57,
   "metadata": {},
   "outputs": [
    {
     "name": "stdout",
     "output_type": "stream",
     "text": [
      "input_variables=['text'] output_parser=None partial_variables={} messages=[HumanMessagePromptTemplate(prompt=PromptTemplate(input_variables=['text'], output_parser=None, partial_variables={}, template='\\n다음 텍스트의 경우 다음 정보를 추출합니다.:\\n\\nname: 선수 이름.\\n\\nplayer_Rating: 1~5점 사이로 평가.\\n\\nsummary: 이 플레이어를 한 달락으로 평가하세요. \\n\\n다음 키를 사용하여 JSON으로 출력합니다.:\\nname\\nplayer_Rating\\nsummary\\n\\ntext:{text}\\n', template_format='f-string', validate_template=True), additional_kwargs={})]\n"
     ]
    }
   ],
   "source": [
    "from langchain.prompts import ChatPromptTemplate\n",
    "\n",
    "prompt_template = ChatPromptTemplate.from_template(review_template)\n",
    "print(prompt_template)"
   ]
  },
  {
   "cell_type": "code",
   "execution_count": 58,
   "metadata": {},
   "outputs": [
    {
     "name": "stdout",
     "output_type": "stream",
     "text": [
      "{\n",
      "  \"name\": \"피에로 인카피에\",\n",
      "  \"player_Rating\": \"3\",\n",
      "  \"summary\": \"요긴한 자원이나 안정성이 없다\"\n",
      "}\n"
     ]
    }
   ],
   "source": [
    "messages = prompt_template.format_messages(text=review_sample)\n",
    "chat = ChatOpenAI(temperature=0.0, model=\"gpt-3.5-turbo\")\n",
    "response = chat(messages)\n",
    "print(response.content)"
   ]
  },
  {
   "cell_type": "code",
   "execution_count": 47,
   "metadata": {},
   "outputs": [
    {
     "ename": "AttributeError",
     "evalue": "'str' object has no attribute 'get'",
     "output_type": "error",
     "traceback": [
      "\u001b[1;31m---------------------------------------------------------------------------\u001b[0m",
      "\u001b[1;31mAttributeError\u001b[0m                            Traceback (most recent call last)",
      "\u001b[1;32mc:\\Users\\MG\\Desktop\\langchain\\project.ipynb Cell 22\u001b[0m line \u001b[0;36m1\n\u001b[1;32m----> <a href='vscode-notebook-cell:/c%3A/Users/MG/Desktop/langchain/project.ipynb#X33sZmlsZQ%3D%3D?line=0'>1</a>\u001b[0m response\u001b[39m.\u001b[39;49mcontent\u001b[39m.\u001b[39;49mget(\u001b[39m'\u001b[39m\u001b[39msummery\u001b[39m\u001b[39m'\u001b[39m)\n",
      "\u001b[1;31mAttributeError\u001b[0m: 'str' object has no attribute 'get'"
     ]
    }
   ],
   "source": [
    "# 오류 코드\n",
    "response.content.get(\"summery\")"
   ]
  },
  {
   "cell_type": "code",
   "execution_count": 48,
   "metadata": {},
   "outputs": [],
   "source": [
    "from langchain.output_parsers import ResponseSchema\n",
    "from langchain.output_parsers import StructuredOutputParser"
   ]
  },
  {
   "cell_type": "code",
   "execution_count": 74,
   "metadata": {},
   "outputs": [],
   "source": [
    "name = ResponseSchema(\n",
    "    name=\"name\",\n",
    "    description=\"선수 이름\",\n",
    ")\n",
    "player_Rating = ResponseSchema(\n",
    "    name=\"player_Rating\",\n",
    "    description=\"선수의 성능을 1~5점 사이로 평가\",\n",
    ")\n",
    "summary = ResponseSchema(\n",
    "    name=\"summary\",\n",
    "    description=\"이 플레이어를 한 달락으로 평가하세요.\",\n",
    ")\n",
    "\n",
    "response_schemas = [name, player_Rating, summary]"
   ]
  },
  {
   "cell_type": "code",
   "execution_count": 75,
   "metadata": {},
   "outputs": [],
   "source": [
    "output_parser = StructuredOutputParser.from_response_schemas(response_schemas)"
   ]
  },
  {
   "cell_type": "code",
   "execution_count": 76,
   "metadata": {},
   "outputs": [
    {
     "data": {
      "text/plain": [
       "'The output should be a markdown code snippet formatted in the following schema, including the leading and trailing \"```json\" and \"```\":\\n\\n```json\\n{\\n\\t\"name\": string  // 선수 이름\\n\\t\"player_Rating\": string  // 선수의 성능을 1~5점 사이로 평가\\n\\t\"summary\": string  // 이 플레이어를 한 달락으로 평가하세요.\\n}\\n```'"
      ]
     },
     "execution_count": 76,
     "metadata": {},
     "output_type": "execute_result"
    }
   ],
   "source": [
    "format_instructions = output_parser.get_format_instructions()\n",
    "\n",
    "format_instructions"
   ]
  },
  {
   "cell_type": "code",
   "execution_count": 82,
   "metadata": {},
   "outputs": [],
   "source": [
    "review_sample2 = \"\"\"\n",
    "선수: 피에로 인카피에\n",
    "\n",
    "보통 얘를 쓴다는건 레버쿠젠에서 차두리 센터백 파트너 or 왼쪽 풀백으로 쓴다는건데 둘 다 써본 후기 남겨좀\n",
    "7카 한 150판 정도 썼고 4백 5백 다 써봄\n",
    "\n",
    "1. CB : 2/5 점\n",
    "스탯만 보면 전형적인 풀터백임 빠르고 수비스탯 나쁘지않고 키도 어느정도는 커버됨\n",
    "근데 몸무게가 너무 낮음 이게 경합상황 잦은 센터백에선 너무 치명적임\n",
    "똑똑하고 빠르고 한데 센터백 특성상 어쩔 수 없이 경합할 수 밖에 없는 상황이 생기는데 그때 너무 무력함\n",
    "우당탕 골 많이 당하고 뺐었는데도 비비기로 다시 뺐기는 경우 많았음\n",
    "\n",
    "2. LB 3.5 / 5\n",
    "무난함 4백 쓸때 풀백으로 쓰면 생각보다 나쁘지않게 사용가능\n",
    "5백 윙백으로는 비추 공격스탯이 너무 별로고 약발이 너무 치명적임\n",
    "얘는 걍 안정적으로 주발 패스만 하고 뒤에 수비 안정적으로 하게 두면 밥값잘함\n",
    "수비는 똑똑하게 잘함 ST, CF 얘들한테나 몸쌈밀리지 윙어들은 경합 이겨먹음\n",
    "\n",
    "3. 5백 SW : 3.5/ 5\n",
    "약발이 너무 단점 약발로 잘못 찼다간 패삑 나고 역습당해서 골 먹힘\n",
    "아예 수비용으로만 쓸거면 나쁘지않음 4점까지 줄 수 있음\n",
    "\n",
    "결론\n",
    "차두리 파트너 찾으면 걍 스탯도 비슷한 비커르 쓰셈 얘가 보통 체형에 몸무게도 적당해서 CB은 훨씬 안정적임\n",
    "나도 첨에 비커르 LB 인카피에 LCB 쓰다가 수비가 너무 털려서 한번 둘이 바꿔보니까 훨씬 나았음\n",
    "탑소바는 안써봐서 몰루?\n",
    "\"\"\"\n",
    "\n",
    "review_template = \"\"\"\n",
    "다음 텍스트의 경우 다음 정보를 추출합니다.:\n",
    "\n",
    "name: 선수 이름.\n",
    "\n",
    "player_Rating: 1~5점 사이로 평가.\n",
    "\n",
    "summary: 내용을 바탕으로 이 선수에 대한 5문장이하로 요약. \n",
    "\n",
    "다음 키를 사용하여 JSON으로 출력합니다.:\n",
    "name\n",
    "player_Rating\n",
    "summary\n",
    "\n",
    "text:{text}\n",
    "\n",
    "{format_instructions}\n",
    "\"\"\""
   ]
  },
  {
   "cell_type": "code",
   "execution_count": 83,
   "metadata": {},
   "outputs": [
    {
     "name": "stdout",
     "output_type": "stream",
     "text": [
      "\n",
      "다음 텍스트의 경우 다음 정보를 추출합니다.:\n",
      "\n",
      "name: 선수 이름.\n",
      "\n",
      "player_Rating: 1~5점 사이로 평가.\n",
      "\n",
      "summary: 내용을 바탕으로 이 선수에 대한 5문장이하로 요약. \n",
      "\n",
      "다음 키를 사용하여 JSON으로 출력합니다.:\n",
      "name\n",
      "player_Rating\n",
      "summary\n",
      "\n",
      "text:\n",
      "선수: 피에로 인카피에\n",
      "\n",
      "보통 얘를 쓴다는건 레버쿠젠에서 차두리 센터백 파트너 or 왼쪽 풀백으로 쓴다는건데 둘 다 써본 후기 남겨좀\n",
      "7카 한 150판 정도 썼고 4백 5백 다 써봄\n",
      "\n",
      "1. CB : 2/5 점\n",
      "스탯만 보면 전형적인 풀터백임 빠르고 수비스탯 나쁘지않고 키도 어느정도는 커버됨\n",
      "근데 몸무게가 너무 낮음 이게 경합상황 잦은 센터백에선 너무 치명적임\n",
      "똑똑하고 빠르고 한데 센터백 특성상 어쩔 수 없이 경합할 수 밖에 없는 상황이 생기는데 그때 너무 무력함\n",
      "우당탕 골 많이 당하고 뺐었는데도 비비기로 다시 뺐기는 경우 많았음\n",
      "\n",
      "2. LB 3.5 / 5\n",
      "무난함 4백 쓸때 풀백으로 쓰면 생각보다 나쁘지않게 사용가능\n",
      "5백 윙백으로는 비추 공격스탯이 너무 별로고 약발이 너무 치명적임\n",
      "얘는 걍 안정적으로 주발 패스만 하고 뒤에 수비 안정적으로 하게 두면 밥값잘함\n",
      "수비는 똑똑하게 잘함 ST, CF 얘들한테나 몸쌈밀리지 윙어들은 경합 이겨먹음\n",
      "\n",
      "3. 5백 SW : 3.5/ 5\n",
      "약발이 너무 단점 약발로 잘못 찼다간 패삑 나고 역습당해서 골 먹힘\n",
      "아예 수비용으로만 쓸거면 나쁘지않음 4점까지 줄 수 있음\n",
      "\n",
      "결론\n",
      "차두리 파트너 찾으면 걍 스탯도 비슷한 비커르 쓰셈 얘가 보통 체형에 몸무게도 적당해서 CB은 훨씬 안정적임\n",
      "나도 첨에 비커르 LB 인카피에 LCB 쓰다가 수비가 너무 털려서 한번 둘이 바꿔보니까 훨씬 나았음\n",
      "탑소바는 안써봐서 몰루?\n",
      "\n",
      "\n",
      "The output should be a markdown code snippet formatted in the following schema, including the leading and trailing \"```json\" and \"```\":\n",
      "\n",
      "```json\n",
      "{\n",
      "\t\"name\": string  // 선수 이름\n",
      "\t\"player_Rating\": string  // 선수의 성능을 1~5점 사이로 평가\n",
      "\t\"summary\": string  // 이 플레이어를 한 달락으로 평가하세요.\n",
      "}\n",
      "```\n",
      "\n"
     ]
    }
   ],
   "source": [
    "prompt = ChatPromptTemplate.from_template(template=review_template)\n",
    "\n",
    "messages = prompt.format_messages(\n",
    "    text=review_sample2, format_instructions=format_instructions\n",
    ")\n",
    "\n",
    "\n",
    "print(messages[0].content)"
   ]
  },
  {
   "cell_type": "code",
   "execution_count": 84,
   "metadata": {},
   "outputs": [
    {
     "data": {
      "text/plain": [
       "'```json\\n{\\n\\t\"name\": \"피에로 인카피에\",\\n\\t\"player_Rating\": \"3.5\",\\n\\t\"summary\": \"피에로 인카피에는 센터백으로는 몸무게가 낮아 경합상황에서 무력해지는 단점이 있지만, 똑똑하고 빠르며 수비 스탯이 좋아서 안정적인 선수입니다. 왼쪽 풀백으로 사용할 때도 나쁘지 않으며, 수비용으로만 사용한다면 꽤 좋은 선택입니다.\"\\n}\\n```'"
      ]
     },
     "execution_count": 84,
     "metadata": {},
     "output_type": "execute_result"
    }
   ],
   "source": [
    "response = chat(messages)\n",
    "\n",
    "response.content"
   ]
  },
  {
   "cell_type": "code",
   "execution_count": 86,
   "metadata": {},
   "outputs": [
    {
     "data": {
      "text/plain": [
       "{'name': '피에로 인카피에',\n",
       " 'player_Rating': '3.5',\n",
       " 'summary': '피에로 인카피에는 센터백으로는 몸무게가 낮아 경합상황에서 무력해지는 단점이 있지만, 똑똑하고 빠르며 수비 스탯이 좋아서 안정적인 선수입니다. 왼쪽 풀백으로 사용할 때도 나쁘지 않으며, 수비용으로만 사용한다면 꽤 좋은 선택입니다.'}"
      ]
     },
     "execution_count": 86,
     "metadata": {},
     "output_type": "execute_result"
    }
   ],
   "source": [
    "output_dict = output_parser.parse(response.content)\n",
    "\n",
    "output_dict"
   ]
  },
  {
   "cell_type": "code",
   "execution_count": 93,
   "metadata": {},
   "outputs": [
    {
     "name": "stdout",
     "output_type": "stream",
     "text": [
      "name 피에로 인카피에\n",
      "player_Rating 3.5\n",
      "summary 피에로 인카피에는 센터백으로는 몸무게가 낮아 경합상황에서 무력해지는 단점이 있지만, 똑똑하고 빠르며 수비 스탯이 좋아서 안정적인 선수입니다. 왼쪽 풀백으로 사용할 때도 나쁘지 않으며, 수비용으로만 사용한다면 꽤 좋은 선택입니다.\n"
     ]
    }
   ],
   "source": [
    "for k, v in output_dict.items():\n",
    "    print(k, v)"
   ]
  }
 ],
 "metadata": {
  "kernelspec": {
   "display_name": "langchain",
   "language": "python",
   "name": "python3"
  },
  "language_info": {
   "codemirror_mode": {
    "name": "ipython",
    "version": 3
   },
   "file_extension": ".py",
   "mimetype": "text/x-python",
   "name": "python",
   "nbconvert_exporter": "python",
   "pygments_lexer": "ipython3",
   "version": "3.11.5"
  },
  "orig_nbformat": 4
 },
 "nbformat": 4,
 "nbformat_minor": 2
}

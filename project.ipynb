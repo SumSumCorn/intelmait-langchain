{
 "cells": [
  {
   "cell_type": "markdown",
   "metadata": {},
   "source": [
    "## 언어 모델(LLM)의 두 가지 유형\n",
    "\n",
    "**LLM**: 문자열을 입력으로 받아 문자열을 반환하는 언어 모델입니다.\n",
    "\n",
    "**ChatModels**: 메시지 목록을 입력으로 받아 메시지를 반환하는 언어 모델입니다.\n"
   ]
  },
  {
   "cell_type": "markdown",
   "metadata": {},
   "source": [
    "---\n",
    "LLM의 입력/출력은 문자열\n",
    "\n",
    "하지만 ChatModels은 어떨까요? 입력은 ChatMessage의 목록이고 출력은 하나의 ChatMessage입니다. \n",
    "\n",
    "\n",
    "- ChatMessage에는 두 가지 필수 구성 요소:\n",
    "    - content: 메시지의 내용입니다.\n",
    "    - role: ChatMessage를 보낸 엔티티의 역할입니다.\n",
    "\n",
    "---\n",
    "\n",
    "- **예시**\n",
    "\n",
    "```python\n",
    "messages = [{\"role\": \"user\", \"content\": \"hi\"}]\n",
    "\n",
    "result = openai.ChatCompletion.create(\n",
    "    messages=messages,\n",
    "    model=\"gpt-3.5-turbo\",\n",
    "    temperature=0\n",
    ")\n",
    "\n",
    "response = openai.ChatCompletion.create(\n",
    "    model=\"gpt-3.5-turbo\",\n",
    "    messages=[\n",
    "        {\"role\": \"system\", \"content\": \"You are a helpful assistant.\"},\n",
    "        {\"role\": \"user\", \"content\": \"Who won the world series in 2020?\"},\n",
    "        {\"role\": \"assistant\", \"content\": \"The Los Angeles Dodgers won the World Series in 2020.\"},\n",
    "        {\"role\": \"user\", \"content\": \"Where was it played?\"}\n",
    "    ]\n",
    ")\n",
    "```\n"
   ]
  },
  {
   "cell_type": "markdown",
   "metadata": {},
   "source": [
    "---\n",
    "\n",
    "### LangChain은 서로 다른 역할을 쉽게 구분할 수 있도록 여러 객체를 제공\n",
    "\n",
    "- HumanMessage: 사람/사용자로부터 오는 ChatMessage입니다.\n",
    "\n",
    "- AIMessage: 인공지능/어시스턴트가 보내는 ChatMessage.\n",
    "\n",
    "- SystemMessage: 시스템에서 보내는 챗메시지입니다.\n",
    "\n",
    "- FunctionMessage: 함수 호출에서 오는 ChatMessage.\n"
   ]
  },
  {
   "cell_type": "markdown",
   "metadata": {},
   "source": [
    "이러한 역할 중 어느 것도 적합하지 않은 경우 수동으로 역할을 지정할 수 있는 ChatMessage 클래스도 있습니다.  \n",
    "이러한 다양한 메시지를 가장 효과적으로 사용하는 방법에 대한 자세한 내용은 프롬프트 가이드를 참조하세요.\n"
   ]
  },
  {
   "cell_type": "markdown",
   "metadata": {},
   "source": [
    "predict: 문자열을 받아 문자열을 반환합니다.  \n",
    "predict_messages: 메시지 목록을 받아 메시지를 반환합니다.  \n",
    "이러한 다양한 유형의 모델과 다양한 유형의 입력으로 작업하는 방법을 살펴보겠습니다. 먼저 LLM과 ChatModel을 가져와 보겠습니다\n"
   ]
  },
  {
   "cell_type": "code",
   "execution_count": 3,
   "metadata": {},
   "outputs": [],
   "source": [
    "import os\n",
    "from dotenv import load_dotenv\n",
    "\n",
    "load_dotenv()"
   ]
  },
  {
   "cell_type": "code",
   "execution_count": 2,
   "metadata": {},
   "outputs": [
    {
     "name": "stdout",
     "output_type": "stream",
     "text": [
      "Hello! How can I assist you today?\n"
     ]
    }
   ],
   "source": [
    "import openai\n",
    "\n",
    "completion = openai.ChatCompletion.create(\n",
    "    model=\"gpt-3.5-turbo\", messages=[{\"role\": \"user\", \"content\": \"Hello world\"}]\n",
    ")\n",
    "print(completion.choices[0].message.content)"
   ]
  },
  {
   "cell_type": "code",
   "execution_count": 4,
   "metadata": {},
   "outputs": [
    {
     "name": "stdout",
     "output_type": "stream",
     "text": [
      "{'role': 'assistant', 'content': 'I am an AI language model developed by OpenAI. I am here to answer questions and engage in conversation. How can I assist you today?'}\n"
     ]
    }
   ],
   "source": [
    "result = openai.ChatCompletion.create(\n",
    "    model=\"gpt-3.5-turbo\", messages=[{\"role\": \"user\", \"content\": \"what are you doing?\"}]\n",
    ")\n",
    "\n",
    "print(result[\"choices\"][0][\"message\"])"
   ]
  },
  {
   "cell_type": "code",
   "execution_count": null,
   "metadata": {},
   "outputs": [],
   "source": [
    "# 위의 내용 연습하기"
   ]
  },
  {
   "cell_type": "markdown",
   "metadata": {},
   "source": [
    "## Chat API : langchain\n",
    "\n",
    "랭체인에서도 비슷하게 사용할 수 있다.  \n",
    "좀 더 다양하고 편리한 기능들을 사용할 수 있다.\n"
   ]
  },
  {
   "cell_type": "code",
   "execution_count": 7,
   "metadata": {},
   "outputs": [],
   "source": [
    "from langchain.chat_models import ChatOpenAI\n",
    "\n",
    "chat = ChatOpenAI(temperature=0, model=\"gpt-3.5-turbo\")"
   ]
  },
  {
   "cell_type": "code",
   "execution_count": 9,
   "metadata": {},
   "outputs": [
    {
     "data": {
      "text/plain": [
       "'나에게 재밌는 농담 말해줘.'"
      ]
     },
     "execution_count": 9,
     "metadata": {},
     "output_type": "execute_result"
    }
   ],
   "source": [
    "# 간단한 템플릿\n",
    "\n",
    "from langchain import PromptTemplate\n",
    "\n",
    "prompt_template = PromptTemplate.from_template(\"나에게 {adjective} {content} 말해줘.\")\n",
    "prompt_template.format(adjective=\"재밌는\", content=\"농담\")"
   ]
  },
  {
   "cell_type": "code",
   "execution_count": 14,
   "metadata": {},
   "outputs": [
    {
     "data": {
      "text/plain": [
       "str"
      ]
     },
     "execution_count": 14,
     "metadata": {},
     "output_type": "execute_result"
    }
   ],
   "source": [
    "message = prompt_template.format(adjective=\"냉소적인\", content=\"이야기\")\n",
    "message"
   ]
  },
  {
   "cell_type": "markdown",
   "metadata": {},
   "source": [
    "### LangChain은 서로 다른 역할을 쉽게 구분할 수 있도록 여러 객체를 제공\n",
    "\n",
    "- HumanMessage: 사람/사용자로부터 오는 ChatMessage입니다.\n",
    "\n",
    "- AIMessage: 인공지능/어시스턴트가 보내는 ChatMessage.\n",
    "\n",
    "- SystemMessage: 시스템에서 보내는 챗메시지입니다.\n",
    "\n",
    "- FunctionMessage: 함수 호출에서 오는 ChatMessage.\n"
   ]
  },
  {
   "cell_type": "code",
   "execution_count": 16,
   "metadata": {},
   "outputs": [
    {
     "data": {
      "text/plain": [
       "[SystemMessage(content='You are a helpful AI bot. Your name is Bob.', additional_kwargs={}),\n",
       " HumanMessage(content='Hello, how are you doing?', additional_kwargs={}, example=False),\n",
       " AIMessage(content=\"I'm doing well, thanks!\", additional_kwargs={}, example=False),\n",
       " HumanMessage(content='What is your name?', additional_kwargs={}, example=False)]"
      ]
     },
     "execution_count": 16,
     "metadata": {},
     "output_type": "execute_result"
    }
   ],
   "source": [
    "# 채팅 프롬프트 템플릿\n",
    "\n",
    "from langchain.prompts import ChatPromptTemplate\n",
    "\n",
    "template = ChatPromptTemplate.from_messages(\n",
    "    [\n",
    "        (\"system\", \"You are a helpful AI bot. Your name is {name}.\"),\n",
    "        (\"human\", \"Hello, how are you doing?\"),\n",
    "        (\"ai\", \"I'm doing well, thanks!\"),\n",
    "        (\"human\", \"{user_input}\"),\n",
    "    ]\n",
    ")\n",
    "\n",
    "messages = template.format_messages(name=\"Bob\", user_input=\"What is your name?\")\n",
    "\n",
    "messages"
   ]
  },
  {
   "cell_type": "code",
   "execution_count": 22,
   "metadata": {},
   "outputs": [
    {
     "name": "stdout",
     "output_type": "stream",
     "text": [
      "content='My name is Bob. How can I assist you today?' additional_kwargs={} example=False\n"
     ]
    }
   ],
   "source": [
    "res = chat(messages)\n",
    "\n",
    "print(res.content)"
   ]
  },
  {
   "cell_type": "code",
   "execution_count": null,
   "metadata": {},
   "outputs": [],
   "source": [
    "# 문제: 프롬프트 템플릿을 가지고 여러가지 질문을 만들어보세요\n",
    "\n",
    "# 1. 공부를 위한 채팅 프롬프트 만들기 질문하기\n",
    "\n",
    "# 2. 여행계획 세우는 채팅 프롬프트 만들기 질문하기"
   ]
  },
  {
   "cell_type": "code",
   "execution_count": null,
   "metadata": {},
   "outputs": [],
   "source": []
  }
 ],
 "metadata": {
  "kernelspec": {
   "display_name": "langchain",
   "language": "python",
   "name": "python3"
  },
  "language_info": {
   "codemirror_mode": {
    "name": "ipython",
    "version": 3
   },
   "file_extension": ".py",
   "mimetype": "text/x-python",
   "name": "python",
   "nbconvert_exporter": "python",
   "pygments_lexer": "ipython3",
   "version": "3.11.5"
  },
  "orig_nbformat": 4
 },
 "nbformat": 4,
 "nbformat_minor": 2
}
